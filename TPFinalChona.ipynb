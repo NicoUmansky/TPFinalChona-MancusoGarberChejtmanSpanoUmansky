{
  "cells": [
    {
      "cell_type": "markdown",
      "metadata": {
        "id": "gjUjjQiBkSxH"
      },
      "source": [
        "# El problema de clasificación que elegimos: \n",
        "Nosotros elegimos hacer una red neuronal para resolver el problema de MNIST que basicamente consiste en una serie de imágenes de dígitos escritos a mano alzada, entre 0 y 9. Cada dígito está representado por una imagen en blanco y negro. "
      ]
    },
    {
      "cell_type": "markdown",
      "metadata": {
        "id": "Y8dDhxcUc-tg"
      },
      "source": [
        "# Imports: \n",
        "Importo las librerías correspondientes"
      ]
    },
    {
      "cell_type": "code",
      "execution_count": 1,
      "metadata": {
        "colab": {
          "base_uri": "https://localhost:8080/"
        },
        "id": "y28K9q2Kq4qn",
        "outputId": "8f3e1080-a90c-4dd3-e399-56a605f3a40b"
      },
      "outputs": [
        {
          "name": "stdout",
          "output_type": "stream",
          "text": [
            "Looking in indexes: https://pypi.org/simple, https://us-python.pkg.dev/colab-wheels/public/simple/\n",
            "Requirement already satisfied: keras-visualizer in /usr/local/lib/python3.7/dist-packages (2.4)\n"
          ]
        }
      ],
      "source": [
        "from __future__ import absolute_import, division, print_function, unicode_literals\n",
        "!pip3 install keras-visualizer\n",
        "\n",
        "import tensorflow as tf\n",
        "import tensorflow_datasets as tfds\n",
        "\n",
        "import math\n",
        "import numpy as np\n",
        "import matplotlib.pyplot as plt\n",
        "import logging\n",
        "logger = tf.get_logger()\n",
        "\n",
        "import keras\n",
        "from keras.models import Sequential\n",
        "from keras.layers import Dense, Dropout, Conv2D, MaxPooling2D, Flatten, Activation\n",
        "from keras_visualizer import visualizer \n",
        "from keras.utils.vis_utils import plot_model\n",
        "from keras import models, layers  \n",
        "from IPython.display import display, Image\n",
        "\n",
        "logger.setLevel(logging.ERROR)"
      ]
    },
    {
      "cell_type": "markdown",
      "metadata": {
        "id": "5hIZYyUzqnwn"
      },
      "source": [
        "  Usamos el dataset que ya esta hecho en **Tensorflow**, llamado mnist. Ahí se encuentran todas las imagenes que vamos a utilizar luego."
      ]
    },
    {
      "cell_type": "code",
      "execution_count": 2,
      "metadata": {
        "id": "0r5ownoopgxT"
      },
      "outputs": [],
      "source": [
        "dataset, metadata = tfds.load('mnist', as_supervised=True, with_info=True)\n",
        "train_dataset, test_dataset = dataset['train'], dataset['test']"
      ]
    },
    {
      "cell_type": "markdown",
      "metadata": {
        "id": "NxCL77yrfitO"
      },
      "source": [
        "Para el entrenamiento tenemos 60.000 imagenes de 28 x 28 pixeles de tamaño cada una. Y 10.000 para las pruebas, del mismo tamaño."
      ]
    },
    {
      "cell_type": "code",
      "execution_count": 3,
      "metadata": {
        "colab": {
          "base_uri": "https://localhost:8080/"
        },
        "id": "yvBUXTQegPlx",
        "outputId": "93bfca68-47b6-4ee1-b510-77d7cf0cea71"
      },
      "outputs": [
        {
          "name": "stdout",
          "output_type": "stream",
          "text": [
            "60000 10000\n"
          ]
        }
      ],
      "source": [
        "class_names = [\n",
        "    '0', '1', '2', '3', '4', '5', '6',\n",
        "    '7', '8', '9'\n",
        "]\n",
        "\n",
        "num_train_examples = metadata.splits['train'].num_examples\n",
        "\n",
        "num_test_examples = metadata.splits['test'].num_examples\n",
        "print(num_train_examples, num_test_examples)"
      ]
    },
    {
      "cell_type": "markdown",
      "metadata": {
        "id": "kziLmP8hqHdW"
      },
      "source": [
        "# Normalizar los datos:\n",
        "\n",
        "Hacemos una funcion para normalizar los datos, es decir que en vez de que los numeros esten entre 0 y 255 (el cual es el valor máximo de un pixel en una imagen (RGB=255,255,255)) van a estar entre 0 y 1. Aplicamos esta funcion a train_dataset y a test_dataset."
      ]
    },
    {
      "cell_type": "code",
      "execution_count": 4,
      "metadata": {
        "id": "Ccey2KJ6orXf"
      },
      "outputs": [],
      "source": [
        "def normalize(images, labels):\n",
        "    images = tf.cast(images, tf.float32)\n",
        "    images /= 255\n",
        "    return images, labels\n",
        "\n",
        "train_dataset = train_dataset.map(normalize)\n",
        "test_dataset = test_dataset.map(normalize)"
      ]
    },
    {
      "cell_type": "markdown",
      "metadata": {
        "id": "CsrxS_7Lq-G-"
      },
      "source": [
        "# Estructura de los datos: \n",
        "Definimos la estructura de nuestra Red Neuronal. Primero indicamos la capa de entrada que cuenta con 784 neuronas y llegaran de una forma cuadrada de 28x28. Agregamos dos capas ocultas (Densas) de 64 neuronas cada una y por ultimo la capa de salida que también es densa y cuenta con 10 outputs (una por cada posible numero entre 0 y 9). \n",
        "\n",
        "Para las capas ocultas usamos el metodo de activación **relu** que es la función de activación más utilizada en el deep learning. Lo que hace es que los numeros negativos los convierte en 0 y los positivos los deja como están. Su formula es ReLU (z) = max(0,z)\n",
        "\n",
        "Pero para la capa de salida utilizamos la función **softmax**. Esta función de activación devuelve la distribución de probabilidad de cada una de las clases soportadas en el modelo."
      ]
    },
    {
      "cell_type": "code",
      "execution_count": 5,
      "metadata": {
        "id": "XLiK0P2cosH3"
      },
      "outputs": [],
      "source": [
        "model = tf.keras.Sequential([\n",
        "\ttf.keras.layers.Flatten(input_shape=(28,28,1)),\n",
        "\ttf.keras.layers.Dense(64, activation=tf.nn.relu),\n",
        "\ttf.keras.layers.Dense(64, activation=tf.nn.relu),\n",
        "\ttf.keras.layers.Dense(10, activation=tf.nn.softmax)\n",
        " ])"
      ]
    },
    {
      "cell_type": "markdown",
      "metadata": {
        "id": "hO3nR3WeuXvl"
      },
      "source": [
        "Compilamos el modelo indicando el optimizador (\"**Adam**\") la función de costo que utilizamos (\"**sparse_categorical_crossentropy**\"). Guardamos la precisión de nuestra red para luego poder mostrarla en pantalla."
      ]
    },
    {
      "cell_type": "code",
      "execution_count": 6,
      "metadata": {
        "id": "Ps-Mry60oxLd"
      },
      "outputs": [],
      "source": [
        "model.compile(\n",
        "\toptimizer='adam',\n",
        "\tloss='sparse_categorical_crossentropy',\n",
        "\tmetrics=['accuracy']\n",
        ")"
      ]
    },
    {
      "cell_type": "markdown",
      "metadata": {
        "id": "TBoePYo5zKZ0"
      },
      "source": [
        "# Entrenamiento del modelo:\n",
        "Primero elegimos el tamaño del batch, es el número de muestras que se utilizan para actualizar los pesos cada vez.  En este caso es de 32."
      ]
    },
    {
      "cell_type": "code",
      "execution_count": 8,
      "metadata": {
        "id": "4Xk8ZjCYo2b7"
      },
      "outputs": [],
      "source": [
        "BATCHSIZE = 32\n",
        "train_dataset = train_dataset.repeat().shuffle(num_train_examples).batch(BATCHSIZE)\n",
        "test_dataset = test_dataset.batch(BATCHSIZE)"
      ]
    },
    {
      "cell_type": "markdown",
      "metadata": {
        "id": "D9GhOPl30MN_"
      },
      "source": [
        "Hacemos el aprendizaje con el metodo **fit**. En este se le indican la cantidad de epochs, es decir la cantidad de vueltas completas a todos los datos del set se usaran en el entrenamiento. A medida que van pasando los epochs la \"accuracy\", es cada vez más alta y la pérdida, cada vez más chica."
      ]
    },
    {
      "cell_type": "code",
      "execution_count": 9,
      "metadata": {
        "colab": {
          "base_uri": "https://localhost:8080/"
        },
        "id": "vjaux7r-o6Pk",
        "outputId": "9cb2d3d7-6978-47f9-b1fd-efc868ce5009"
      },
      "outputs": [
        {
          "name": "stdout",
          "output_type": "stream",
          "text": [
            "Epoch 1/5\n",
            "1875/1875 [==============================] - 20s 8ms/step - loss: 0.2705 - accuracy: 0.9202\n",
            "Epoch 2/5\n",
            "1875/1875 [==============================] - 19s 10ms/step - loss: 0.1240 - accuracy: 0.9630\n",
            "Epoch 3/5\n",
            "1875/1875 [==============================] - 11s 6ms/step - loss: 0.0909 - accuracy: 0.9722\n",
            "Epoch 4/5\n",
            "1875/1875 [==============================] - 10s 5ms/step - loss: 0.0709 - accuracy: 0.9777\n",
            "Epoch 5/5\n",
            "1875/1875 [==============================] - 15s 8ms/step - loss: 0.0571 - accuracy: 0.9822\n"
          ]
        },
        {
          "data": {
            "text/plain": [
              "<keras.callbacks.History at 0x7f315693f510>"
            ]
          },
          "execution_count": 9,
          "metadata": {},
          "output_type": "execute_result"
        }
      ],
      "source": [
        "model.fit(\n",
        "\ttrain_dataset, epochs=5,\n",
        "\tsteps_per_epoch=math.ceil(num_train_examples/BATCHSIZE) \n",
        ")"
      ]
    },
    {
      "cell_type": "markdown",
      "metadata": {
        "id": "c4D0M6pb4rLW"
      },
      "source": [
        "# Evaluación:\n",
        "Comparamos nuestro modelo ya entrenado contra el dataset de pruebas.  Esto sirve para ver que tan bien entrenada quedo y darnos cuenta si es correcto la predicción que hace. Además tenemos la test_accuracy que basicamente es la precisión que tiene, en nuestro caso ronda el 97% y el test_loss que es la pérdida del modelo durante el entrenamiento.. "
      ]
    },
    {
      "cell_type": "code",
      "execution_count": 10,
      "metadata": {
        "colab": {
          "base_uri": "https://localhost:8080/"
        },
        "id": "KTCskIdZpB-W",
        "outputId": "13b13ceb-e053-431b-d8f2-8050a79b788d"
      },
      "outputs": [
        {
          "name": "stdout",
          "output_type": "stream",
          "text": [
            "313/313 [==============================] - 2s 5ms/step - loss: 0.0972 - accuracy: 0.9703\n",
            "Test Loss: 0.09720350801944733, Precisión: 0.970300018787384\n"
          ]
        }
      ],
      "source": [
        "test_loss, test_accuracy = model.evaluate(\n",
        "\ttest_dataset, steps=math.ceil(num_test_examples/32)\n",
        ")\n",
        "print(\"Test Loss: {}, Precisión: {}\".format(test_loss, test_accuracy))"
      ]
    },
    {
      "cell_type": "markdown",
      "metadata": {
        "id": "0WOMO52q6yN3"
      },
      "source": [
        "# Visualización de los resultados:\n",
        "Con la libreria matplotlib generamos los graficos en los que se pueden ver cada foto que eligio, el numero predecido (el que estima que es correcto), y a su lado hay una grafico de barras con lo que sería su prediccion (entre cuales esta) que tiene en cada caso. Podemos notar que cuando está en verde es que está seguro de su respuesta pero hay veces que se pone en rojo ya que hay varías opciones posibles y no está claro cuál es la opción correcta. "
      ]
    },
    {
      "cell_type": "code",
      "execution_count": 11,
      "metadata": {
        "colab": {
          "base_uri": "https://localhost:8080/",
          "height": 714
        },
        "id": "tQ1cF_6-ulEn",
        "outputId": "ef05eb5b-3630-4339-c162-b5b3cf0607ab"
      },
      "outputs": [
        {
          "name": "stdout",
          "output_type": "stream",
          "text": [
            "1/1 [==============================] - 0s 130ms/step\n"
          ]
        },
        {
          "data": {
            "image/png": "[encoded data removed]",
            "text/plain": [
              "<Figure size 864x864 with 36 Axes>"
            ]
          },
          "metadata": {},
          "output_type": "display_data"
        }
      ],
      "source": [
        "for test_images, test_labels in test_dataset.take(1):\n",
        "\ttest_images = test_images.numpy()\n",
        "\ttest_labels = test_labels.numpy()\n",
        "\tpredictions = model.predict(test_images)\n",
        " \n",
        "def plot_image(i, predictions_array, true_labels, images):\n",
        "\tpredictions_array, true_label, img = predictions_array[i], true_labels[i], images[i]\n",
        "\tplt.grid(False)\n",
        "\tplt.xticks([])\n",
        "\tplt.yticks([])\n",
        "\n",
        "\tplt.imshow(img[...,0], cmap=plt.cm.binary)\n",
        "\n",
        "\tpredicted_label = np.argmax(predictions_array)\n",
        "\tif predicted_label == true_label:\n",
        "\t\tcolor = 'green'\n",
        "\telse:\n",
        "\t\tcolor = 'red'\n",
        "\n",
        "\tplt.xlabel(\"Numero predecido: {}\".format(class_names[predicted_label]), color=color)\n",
        "\n",
        "def plot_value_array(i, predictions_array, true_label):\n",
        "\tpredictions_array, true_label = predictions_array[i], true_label[i]\n",
        "\tplt.grid(False)\n",
        "\tplt.xticks([])\n",
        "\tplt.yticks([])\n",
        "\tthisplot = plt.bar(range(10), predictions_array, color=\"#888888\")\n",
        "\tplt.ylim([0,1])\n",
        "\tpredicted_label = np.argmax(predictions_array)\n",
        "\n",
        "\tthisplot[predicted_label].set_color('red')\n",
        "\tthisplot[true_label].set_color('green')\n",
        "\n",
        "numrows=6\n",
        "numcols=3\n",
        "numimages = numrows*numcols\n",
        "\n",
        "plt.figure(figsize=(2*2*numcols, 2*numrows))\n",
        "for i in range(numimages):\n",
        "\tplt.subplot(numrows, 2*numcols, 2*i+1)\n",
        "\tplot_image(i, predictions, test_labels, test_images)\n",
        "\tplt.subplot(numrows, 2*numcols, 2*i+2)\n",
        "\tplot_value_array(i, predictions, test_labels)\n",
        "\n",
        "plt.show()"
      ]
    }
  ],
  "metadata": {
    "colab": {
      "collapsed_sections": [],
      "provenance": []
    },
    "kernelspec": {
      "display_name": "Python 3",
      "name": "python3"
    },
    "language_info": {
      "name": "python"
    }
  },
  "nbformat": 4,
  "nbformat_minor": 0
}
